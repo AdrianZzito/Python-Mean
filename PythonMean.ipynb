{
 "cells": [
  {
   "cell_type": "code",
   "execution_count": 7,
   "id": "1861c9cc",
   "metadata": {},
   "outputs": [
    {
     "name": "stdout",
     "output_type": "stream",
     "text": [
      "What's your name? Adrian\n",
      "What is your mark? Type -1 if you have already typed all your notes\n",
      " \t7\n",
      "What is your mark? Type -1 if you have already typed all your notes\n",
      " \t8\n",
      "What is your mark? Type -1 if you have already typed all your notes\n",
      " \t5\n",
      "What is your mark? Type -1 if you have already typed all your notes\n",
      " \t7\n",
      "What is your mark? Type -1 if you have already typed all your notes\n",
      " \t-1\n",
      "In what subject? Math\n",
      "                       Math\n",
      "Marks  [7.0, 8.0, 5.0, 7.0]\n",
      "Mean                   6.75\n",
      "The global mean is 6.75\n"
     ]
    }
   ],
   "source": [
    "import pandas as pd\n",
    "import statistics\n",
    "\n",
    "name = input(\"What's your name? \")\n",
    "\n",
    "filename = \"notas\" + name + \"-\" + subject + \".csv\"\n",
    "file = open(filename, \"w\")\n",
    "\n",
    "marks = []\n",
    "user_marks = 0.0\n",
    "## subject_range = int(input(\"How many subjects you have? \"))\n",
    "\n",
    "def mean_calc():\n",
    "    \n",
    "    global user_marks\n",
    "    \n",
    "    while user_marks != -1:\n",
    "        user_marks = float(input(\"What is your mark? Type -1 if you have already typed all your notes\\n \\t\"))\n",
    "        marks.append(user_marks)\n",
    "\n",
    "    # Deletes the exit number (-1) which per default, gets appended into the array 'marks'\n",
    "    marks.pop()\n",
    "\n",
    "    ## Ask the user for the subject where that mark came from\n",
    "    subject = input(\"In what subject? \")\n",
    "    \n",
    "    ## Calculate the mean\n",
    "    mean = statistics.mean(marks)\n",
    "    \n",
    "    ## Create the DataFrame\n",
    "    notes_df = pd.DataFrame([ [marks], [mean] ], columns = [subject], index = [\"Marks\", \"Mean\"])\n",
    "    \n",
    "    ## Prints the DataFrame and the global mean\n",
    "    print(notes_df)\n",
    "    print(\"The global mean is\", round(mean, 2))\n",
    "    \n",
    "    file.write(str(notes_df))\n",
    "    file.close()\n",
    "    \n",
    "## Calls the function\n",
    "mean_calc()  "
   ]
  },
  {
   "cell_type": "code",
   "execution_count": null,
   "id": "a5af7fff",
   "metadata": {},
   "outputs": [],
   "source": []
  },
  {
   "cell_type": "code",
   "execution_count": null,
   "id": "79cdc65e",
   "metadata": {},
   "outputs": [],
   "source": []
  }
 ],
 "metadata": {
  "kernelspec": {
   "display_name": "Python 3 (ipykernel)",
   "language": "python",
   "name": "python3"
  },
  "language_info": {
   "codemirror_mode": {
    "name": "ipython",
    "version": 3
   },
   "file_extension": ".py",
   "mimetype": "text/x-python",
   "name": "python",
   "nbconvert_exporter": "python",
   "pygments_lexer": "ipython3",
   "version": "3.9.12"
  }
 },
 "nbformat": 4,
 "nbformat_minor": 5
}
